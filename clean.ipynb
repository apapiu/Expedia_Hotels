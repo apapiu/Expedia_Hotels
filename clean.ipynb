{
 "cells": [
  {
   "cell_type": "markdown",
   "metadata": {},
   "source": [
    "EDA for the Expedia competition."
   ]
  },
  {
   "cell_type": "code",
   "execution_count": 4,
   "metadata": {
    "collapsed": false
   },
   "outputs": [
    {
     "name": "stderr",
     "output_type": "stream",
     "text": [
      "\n",
      "Attaching package: ‘dplyr’\n",
      "\n",
      "The following objects are masked from ‘package:data.table’:\n",
      "\n",
      "    between, last\n",
      "\n",
      "The following objects are masked from ‘package:stats’:\n",
      "\n",
      "    filter, lag\n",
      "\n",
      "The following objects are masked from ‘package:base’:\n",
      "\n",
      "    intersect, setdiff, setequal, union\n",
      "\n"
     ]
    }
   ],
   "source": [
    "library(data.table)\n",
    "library(dplyr)\n",
    "\n",
    "n = 1e5\n",
    "\n",
    "train <- fread(\"/Users/alexpapiu/Downloads/train.csv\", nrow = n)\n",
    "#test <- fread(\"/Users/alexpapiu/Downloads/test.csv\")"
   ]
  },
  {
   "cell_type": "markdown",
   "metadata": {},
   "source": [
    "Let's make a validation set:"
   ]
  },
  {
   "cell_type": "code",
   "execution_count": 5,
   "metadata": {
    "collapsed": true
   },
   "outputs": [],
   "source": [
    "set.seed(3124)\n",
    "sam = sample(n, n/5)"
   ]
  },
  {
   "cell_type": "code",
   "execution_count": 6,
   "metadata": {
    "collapsed": false
   },
   "outputs": [],
   "source": [
    "val = train[sam]\n",
    "train = train[-sam]"
   ]
  },
  {
   "cell_type": "code",
   "execution_count": 7,
   "metadata": {
    "collapsed": false
   },
   "outputs": [
    {
     "data": {
      "text/html": [
       "<ol class=list-inline>\n",
       "\t<li>80000</li>\n",
       "\t<li>24</li>\n",
       "</ol>\n"
      ],
      "text/latex": [
       "\\begin{enumerate*}\n",
       "\\item 80000\n",
       "\\item 24\n",
       "\\end{enumerate*}\n"
      ],
      "text/markdown": [
       "1. 80000\n",
       "2. 24\n",
       "\n",
       "\n"
      ],
      "text/plain": [
       "[1] 80000    24"
      ]
     },
     "execution_count": 7,
     "metadata": {},
     "output_type": "execute_result"
    }
   ],
   "source": [
    "dim(train)"
   ]
  },
  {
   "cell_type": "code",
   "execution_count": 8,
   "metadata": {
    "collapsed": false
   },
   "outputs": [
    {
     "name": "stdout",
     "output_type": "stream",
     "text": [
      "Observations: 80,000\n",
      "Variables: 24\n",
      "$ date_time                 (chr) \"2014-08-11 07:46:59\", \"2014-08-11 08:22:...\n",
      "$ site_name                 (int) 2, 2, 2, 2, 2, 2, 2, 2, 2, 2, 2, 2, 2, 2,...\n",
      "$ posa_continent            (int) 3, 3, 3, 3, 3, 3, 3, 3, 3, 3, 3, 3, 3, 3,...\n",
      "$ user_location_country     (int) 66, 66, 66, 66, 66, 66, 66, 66, 66, 66, 6...\n",
      "$ user_location_region      (int) 348, 348, 348, 442, 442, 442, 189, 189, 1...\n",
      "$ user_location_city        (int) 48862, 48862, 48862, 35390, 35390, 35390,...\n",
      "$ orig_destination_distance (dbl) 2234.2641, 2234.2641, 2234.2641, 913.1932...\n",
      "$ user_id                   (int) 12, 12, 12, 93, 93, 93, 501, 501, 501, 50...\n",
      "$ is_mobile                 (int) 0, 0, 0, 0, 0, 0, 0, 0, 0, 0, 0, 0, 0, 0,...\n",
      "$ is_package                (int) 1, 1, 0, 0, 0, 0, 0, 1, 0, 0, 1, 1, 1, 1,...\n",
      "$ channel                   (int) 9, 9, 9, 3, 3, 3, 2, 2, 2, 2, 9, 9, 2, 2,...\n",
      "$ srch_ci                   (chr) \"2014-08-27\", \"2014-08-29\", \"2014-08-29\",...\n",
      "$ srch_co                   (chr) \"2014-08-31\", \"2014-09-02\", \"2014-09-02\",...\n",
      "$ srch_adults_cnt           (int) 2, 2, 2, 2, 2, 2, 2, 2, 2, 2, 2, 2, 2, 2,...\n",
      "$ srch_children_cnt         (int) 0, 0, 0, 0, 0, 0, 0, 0, 0, 0, 0, 0, 0, 0,...\n",
      "$ srch_rm_cnt               (int) 1, 1, 1, 1, 1, 1, 1, 1, 1, 1, 1, 1, 1, 1,...\n",
      "$ srch_destination_id       (int) 8250, 8250, 8250, 14984, 14984, 14984, 82...\n",
      "$ srch_destination_type_id  (int) 1, 1, 1, 1, 1, 1, 1, 1, 1, 1, 1, 1, 1, 1,...\n",
      "$ is_booking                (int) 0, 1, 0, 0, 0, 0, 0, 0, 0, 0, 0, 0, 0, 0,...\n",
      "$ cnt                       (int) 3, 1, 1, 1, 1, 1, 2, 1, 1, 1, 5, 1, 1, 1,...\n",
      "$ hotel_continent           (int) 2, 2, 2, 2, 2, 2, 2, 2, 2, 2, 2, 2, 2, 2,...\n",
      "$ hotel_country             (int) 50, 50, 50, 50, 50, 50, 50, 50, 50, 50, 5...\n",
      "$ hotel_market              (int) 628, 628, 628, 1457, 1457, 1457, 675, 675...\n",
      "$ hotel_cluster             (int) 1, 1, 1, 80, 21, 92, 41, 41, 98, 10, 18, ...\n"
     ]
    }
   ],
   "source": [
    "glimpse(train)"
   ]
  },
  {
   "cell_type": "markdown",
   "metadata": {},
   "source": [
    "But really most of these are factors except for the destination distance."
   ]
  },
  {
   "cell_type": "code",
   "execution_count": 9,
   "metadata": {
    "collapsed": false
   },
   "outputs": [
    {
     "data": {
      "text/html": [
       "<dl class=dl-horizontal>\n",
       "\t<dt>date_time</dt>\n",
       "\t\t<dd>0</dd>\n",
       "\t<dt>site_name</dt>\n",
       "\t\t<dd>0</dd>\n",
       "\t<dt>posa_continent</dt>\n",
       "\t\t<dd>0</dd>\n",
       "\t<dt>user_location_country</dt>\n",
       "\t\t<dd>0</dd>\n",
       "\t<dt>user_location_region</dt>\n",
       "\t\t<dd>0</dd>\n",
       "\t<dt>user_location_city</dt>\n",
       "\t\t<dd>0</dd>\n",
       "\t<dt>orig_destination_distance</dt>\n",
       "\t\t<dd>29544</dd>\n",
       "\t<dt>user_id</dt>\n",
       "\t\t<dd>0</dd>\n",
       "\t<dt>is_mobile</dt>\n",
       "\t\t<dd>0</dd>\n",
       "\t<dt>is_package</dt>\n",
       "\t\t<dd>0</dd>\n",
       "\t<dt>channel</dt>\n",
       "\t\t<dd>0</dd>\n",
       "\t<dt>srch_ci</dt>\n",
       "\t\t<dd>0</dd>\n",
       "\t<dt>srch_co</dt>\n",
       "\t\t<dd>0</dd>\n",
       "\t<dt>srch_adults_cnt</dt>\n",
       "\t\t<dd>0</dd>\n",
       "\t<dt>srch_children_cnt</dt>\n",
       "\t\t<dd>0</dd>\n",
       "\t<dt>srch_rm_cnt</dt>\n",
       "\t\t<dd>0</dd>\n",
       "\t<dt>srch_destination_id</dt>\n",
       "\t\t<dd>0</dd>\n",
       "\t<dt>srch_destination_type_id</dt>\n",
       "\t\t<dd>0</dd>\n",
       "\t<dt>is_booking</dt>\n",
       "\t\t<dd>0</dd>\n",
       "\t<dt>cnt</dt>\n",
       "\t\t<dd>0</dd>\n",
       "\t<dt>hotel_continent</dt>\n",
       "\t\t<dd>0</dd>\n",
       "\t<dt>hotel_country</dt>\n",
       "\t\t<dd>0</dd>\n",
       "\t<dt>hotel_market</dt>\n",
       "\t\t<dd>0</dd>\n",
       "\t<dt>hotel_cluster</dt>\n",
       "\t\t<dd>0</dd>\n",
       "</dl>\n"
      ],
      "text/latex": [
       "\\begin{description*}\n",
       "\\item[date_time] 0\n",
       "\\item[site_name] 0\n",
       "\\item[posa_continent] 0\n",
       "\\item[user_location_country] 0\n",
       "\\item[user_location_region] 0\n",
       "\\item[user_location_city] 0\n",
       "\\item[orig_destination_distance] 29544\n",
       "\\item[user_id] 0\n",
       "\\item[is_mobile] 0\n",
       "\\item[is_package] 0\n",
       "\\item[channel] 0\n",
       "\\item[srch_ci] 0\n",
       "\\item[srch_co] 0\n",
       "\\item[srch_adults_cnt] 0\n",
       "\\item[srch_children_cnt] 0\n",
       "\\item[srch_rm_cnt] 0\n",
       "\\item[srch_destination_id] 0\n",
       "\\item[srch_destination_type_id] 0\n",
       "\\item[is_booking] 0\n",
       "\\item[cnt] 0\n",
       "\\item[hotel_continent] 0\n",
       "\\item[hotel_country] 0\n",
       "\\item[hotel_market] 0\n",
       "\\item[hotel_cluster] 0\n",
       "\\end{description*}\n"
      ],
      "text/markdown": [
       "date_time\n",
       ":   0site_name\n",
       ":   0posa_continent\n",
       ":   0user_location_country\n",
       ":   0user_location_region\n",
       ":   0user_location_city\n",
       ":   0orig_destination_distance\n",
       ":   29544user_id\n",
       ":   0is_mobile\n",
       ":   0is_package\n",
       ":   0channel\n",
       ":   0srch_ci\n",
       ":   0srch_co\n",
       ":   0srch_adults_cnt\n",
       ":   0srch_children_cnt\n",
       ":   0srch_rm_cnt\n",
       ":   0srch_destination_id\n",
       ":   0srch_destination_type_id\n",
       ":   0is_booking\n",
       ":   0cnt\n",
       ":   0hotel_continent\n",
       ":   0hotel_country\n",
       ":   0hotel_market\n",
       ":   0hotel_cluster\n",
       ":   0\n",
       "\n"
      ],
      "text/plain": [
       "                date_time                 site_name            posa_continent \n",
       "                        0                         0                         0 \n",
       "    user_location_country      user_location_region        user_location_city \n",
       "                        0                         0                         0 \n",
       "orig_destination_distance                   user_id                 is_mobile \n",
       "                    29544                         0                         0 \n",
       "               is_package                   channel                   srch_ci \n",
       "                        0                         0                         0 \n",
       "                  srch_co           srch_adults_cnt         srch_children_cnt \n",
       "                        0                         0                         0 \n",
       "              srch_rm_cnt       srch_destination_id  srch_destination_type_id \n",
       "                        0                         0                         0 \n",
       "               is_booking                       cnt           hotel_continent \n",
       "                        0                         0                         0 \n",
       "            hotel_country              hotel_market             hotel_cluster \n",
       "                        0                         0                         0 "
      ]
     },
     "execution_count": 9,
     "metadata": {},
     "output_type": "execute_result"
    }
   ],
   "source": [
    "sapply(train, function(x) sum(is.na(x)))"
   ]
  },
  {
   "cell_type": "markdown",
   "metadata": {},
   "source": [
    "Ok so only destination distance has NA's.\n",
    "How many unique values?"
   ]
  },
  {
   "cell_type": "code",
   "execution_count": 10,
   "metadata": {
    "collapsed": false
   },
   "outputs": [
    {
     "data": {
      "text/html": [
       "<dl class=dl-horizontal>\n",
       "\t<dt>is_mobile</dt>\n",
       "\t\t<dd>2</dd>\n",
       "\t<dt>is_package</dt>\n",
       "\t\t<dd>2</dd>\n",
       "\t<dt>is_booking</dt>\n",
       "\t\t<dd>2</dd>\n",
       "\t<dt>posa_continent</dt>\n",
       "\t\t<dd>5</dd>\n",
       "\t<dt>hotel_continent</dt>\n",
       "\t\t<dd>6</dd>\n",
       "\t<dt>srch_destination_type_id</dt>\n",
       "\t\t<dd>8</dd>\n",
       "\t<dt>srch_rm_cnt</dt>\n",
       "\t\t<dd>9</dd>\n",
       "\t<dt>srch_adults_cnt</dt>\n",
       "\t\t<dd>10</dd>\n",
       "\t<dt>srch_children_cnt</dt>\n",
       "\t\t<dd>10</dd>\n",
       "\t<dt>channel</dt>\n",
       "\t\t<dd>11</dd>\n",
       "\t<dt>cnt</dt>\n",
       "\t\t<dd>27</dd>\n",
       "\t<dt>site_name</dt>\n",
       "\t\t<dd>38</dd>\n",
       "\t<dt>hotel_cluster</dt>\n",
       "\t\t<dd>100</dd>\n",
       "\t<dt>user_location_country</dt>\n",
       "\t\t<dd>121</dd>\n",
       "\t<dt>hotel_country</dt>\n",
       "\t\t<dd>150</dd>\n",
       "\t<dt>user_location_region</dt>\n",
       "\t\t<dd>504</dd>\n",
       "\t<dt>srch_ci</dt>\n",
       "\t\t<dd>1024</dd>\n",
       "\t<dt>srch_co</dt>\n",
       "\t\t<dd>1030</dd>\n",
       "\t<dt>hotel_market</dt>\n",
       "\t\t<dd>1506</dd>\n",
       "\t<dt>user_id</dt>\n",
       "\t\t<dd>3471</dd>\n",
       "\t<dt>user_location_city</dt>\n",
       "\t\t<dd>3652</dd>\n",
       "\t<dt>srch_destination_id</dt>\n",
       "\t\t<dd>5053</dd>\n",
       "\t<dt>orig_destination_distance</dt>\n",
       "\t\t<dd>36400</dd>\n",
       "\t<dt>date_time</dt>\n",
       "\t\t<dd>79900</dd>\n",
       "</dl>\n"
      ],
      "text/latex": [
       "\\begin{description*}\n",
       "\\item[is_mobile] 2\n",
       "\\item[is_package] 2\n",
       "\\item[is_booking] 2\n",
       "\\item[posa_continent] 5\n",
       "\\item[hotel_continent] 6\n",
       "\\item[srch_destination_type_id] 8\n",
       "\\item[srch_rm_cnt] 9\n",
       "\\item[srch_adults_cnt] 10\n",
       "\\item[srch_children_cnt] 10\n",
       "\\item[channel] 11\n",
       "\\item[cnt] 27\n",
       "\\item[site_name] 38\n",
       "\\item[hotel_cluster] 100\n",
       "\\item[user_location_country] 121\n",
       "\\item[hotel_country] 150\n",
       "\\item[user_location_region] 504\n",
       "\\item[srch_ci] 1024\n",
       "\\item[srch_co] 1030\n",
       "\\item[hotel_market] 1506\n",
       "\\item[user_id] 3471\n",
       "\\item[user_location_city] 3652\n",
       "\\item[srch_destination_id] 5053\n",
       "\\item[orig_destination_distance] 36400\n",
       "\\item[date_time] 79900\n",
       "\\end{description*}\n"
      ],
      "text/markdown": [
       "is_mobile\n",
       ":   2is_package\n",
       ":   2is_booking\n",
       ":   2posa_continent\n",
       ":   5hotel_continent\n",
       ":   6srch_destination_type_id\n",
       ":   8srch_rm_cnt\n",
       ":   9srch_adults_cnt\n",
       ":   10srch_children_cnt\n",
       ":   10channel\n",
       ":   11cnt\n",
       ":   27site_name\n",
       ":   38hotel_cluster\n",
       ":   100user_location_country\n",
       ":   121hotel_country\n",
       ":   150user_location_region\n",
       ":   504srch_ci\n",
       ":   1024srch_co\n",
       ":   1030hotel_market\n",
       ":   1506user_id\n",
       ":   3471user_location_city\n",
       ":   3652srch_destination_id\n",
       ":   5053orig_destination_distance\n",
       ":   36400date_time\n",
       ":   79900\n",
       "\n"
      ],
      "text/plain": [
       "                is_mobile                is_package                is_booking \n",
       "                        2                         2                         2 \n",
       "           posa_continent           hotel_continent  srch_destination_type_id \n",
       "                        5                         6                         8 \n",
       "              srch_rm_cnt           srch_adults_cnt         srch_children_cnt \n",
       "                        9                        10                        10 \n",
       "                  channel                       cnt                 site_name \n",
       "                       11                        27                        38 \n",
       "            hotel_cluster     user_location_country             hotel_country \n",
       "                      100                       121                       150 \n",
       "     user_location_region                   srch_ci                   srch_co \n",
       "                      504                      1024                      1030 \n",
       "             hotel_market                   user_id        user_location_city \n",
       "                     1506                      3471                      3652 \n",
       "      srch_destination_id orig_destination_distance                 date_time \n",
       "                     5053                     36400                     79900 "
      ]
     },
     "execution_count": 10,
     "metadata": {},
     "output_type": "execute_result"
    }
   ],
   "source": [
    "sapply(train, function(x) length(unique(x))) %>% sort()"
   ]
  },
  {
   "cell_type": "markdown",
   "metadata": {},
   "source": [
    "The issue is there are a lot of factor levels here."
   ]
  },
  {
   "cell_type": "code",
   "execution_count": 11,
   "metadata": {
    "collapsed": true
   },
   "outputs": [],
   "source": [
    "save.image(\"/Users/alexpapiu/Documents/Data/expedia.RData\")"
   ]
  },
  {
   "cell_type": "code",
   "execution_count": 12,
   "metadata": {
    "collapsed": false
   },
   "outputs": [
    {
     "data": {
      "text/html": [
       "<ol class=list-inline>\n",
       "\t<li>'n'</li>\n",
       "\t<li>'sam'</li>\n",
       "\t<li>'train'</li>\n",
       "\t<li>'val'</li>\n",
       "</ol>\n"
      ],
      "text/latex": [
       "\\begin{enumerate*}\n",
       "\\item 'n'\n",
       "\\item 'sam'\n",
       "\\item 'train'\n",
       "\\item 'val'\n",
       "\\end{enumerate*}\n"
      ],
      "text/markdown": [
       "1. 'n'\n",
       "2. 'sam'\n",
       "3. 'train'\n",
       "4. 'val'\n",
       "\n",
       "\n"
      ],
      "text/plain": [
       "[1] \"n\"     \"sam\"   \"train\" \"val\"  "
      ]
     },
     "execution_count": 12,
     "metadata": {},
     "output_type": "execute_result"
    }
   ],
   "source": [
    "ls()"
   ]
  },
  {
   "cell_type": "code",
   "execution_count": 13,
   "metadata": {
    "collapsed": false
   },
   "outputs": [
    {
     "data": {
      "text/html": [
       "<ol class=list-inline>\n",
       "\t<li>'n'</li>\n",
       "\t<li>'sam'</li>\n",
       "\t<li>'train'</li>\n",
       "\t<li>'val'</li>\n",
       "</ol>\n"
      ],
      "text/latex": [
       "\\begin{enumerate*}\n",
       "\\item 'n'\n",
       "\\item 'sam'\n",
       "\\item 'train'\n",
       "\\item 'val'\n",
       "\\end{enumerate*}\n"
      ],
      "text/markdown": [
       "1. 'n'\n",
       "2. 'sam'\n",
       "3. 'train'\n",
       "4. 'val'\n",
       "\n",
       "\n"
      ],
      "text/plain": [
       "[1] \"n\"     \"sam\"   \"train\" \"val\"  "
      ]
     },
     "execution_count": 13,
     "metadata": {},
     "output_type": "execute_result"
    }
   ],
   "source": [
    "ls()"
   ]
  },
  {
   "cell_type": "code",
   "execution_count": 14,
   "metadata": {
    "collapsed": false
   },
   "outputs": [
    {
     "data": {
      "text/html": [
       "<ol class=list-inline>\n",
       "\t<li>80000</li>\n",
       "\t<li>24</li>\n",
       "</ol>\n"
      ],
      "text/latex": [
       "\\begin{enumerate*}\n",
       "\\item 80000\n",
       "\\item 24\n",
       "\\end{enumerate*}\n"
      ],
      "text/markdown": [
       "1. 80000\n",
       "2. 24\n",
       "\n",
       "\n"
      ],
      "text/plain": [
       "[1] 80000    24"
      ]
     },
     "execution_count": 14,
     "metadata": {},
     "output_type": "execute_result"
    }
   ],
   "source": [
    "dim(train)"
   ]
  },
  {
   "cell_type": "code",
   "execution_count": null,
   "metadata": {
    "collapsed": true
   },
   "outputs": [],
   "source": []
  }
 ],
 "metadata": {
  "kernelspec": {
   "display_name": "R",
   "language": "R",
   "name": "ir"
  },
  "language_info": {
   "codemirror_mode": "r",
   "file_extension": ".r",
   "mimetype": "text/x-r-source",
   "name": "R",
   "pygments_lexer": "r",
   "version": "3.2.4"
  }
 },
 "nbformat": 4,
 "nbformat_minor": 0
}
