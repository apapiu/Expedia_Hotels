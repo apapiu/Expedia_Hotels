{
 "cells": [
  {
   "cell_type": "markdown",
   "metadata": {},
   "source": [
    "Predicting based on one feature:\n"
   ]
  },
  {
   "cell_type": "code",
   "execution_count": 10,
   "metadata": {
    "collapsed": false
   },
   "outputs": [],
   "source": [
    "library(data.table)\n",
    "library(dplyr)\n",
    "library(Metrics)"
   ]
  },
  {
   "cell_type": "code",
   "execution_count": 16,
   "metadata": {
    "collapsed": true
   },
   "outputs": [],
   "source": [
    "load(\"expedia.RData\")"
   ]
  },
  {
   "cell_type": "markdown",
   "metadata": {},
   "source": [
    "Picking the top five out of each:"
   ]
  },
  {
   "cell_type": "code",
   "execution_count": 17,
   "metadata": {
    "collapsed": false
   },
   "outputs": [],
   "source": [
    "train %>%\n",
    "    count(srch_destination_id, hotel_cluster) %>%\n",
    "    arrange(desc(n)) %>% \n",
    "    top_n(5, n) -> top_5"
   ]
  },
  {
   "cell_type": "code",
   "execution_count": 18,
   "metadata": {
    "collapsed": false
   },
   "outputs": [],
   "source": [
    "dat <- as.data.table(top_5)"
   ]
  },
  {
   "cell_type": "code",
   "execution_count": 19,
   "metadata": {
    "collapsed": false
   },
   "outputs": [
    {
     "ename": "ERROR",
     "evalue": "Error in rbindlist(l, use.names, fill, idcol): Item 2 of list input is not a data.frame, data.table or list\n",
     "output_type": "error",
     "traceback": [
      "Error in rbindlist(l, use.names, fill, idcol): Item 2 of list input is not a data.frame, data.table or list\n"
     ]
    },
    {
     "data": {
      "text/plain": [
       "       srch_destination_id hotel_cluster n obs\n",
       "    1:                   1            20 2 y_1\n",
       "    2:                   1            60 2 y_2\n",
       "    3:                   1            30 1 y_3\n",
       "    4:                   4            82 5 y_1\n",
       "    5:                   4            78 5 y_2\n",
       "   ---                                        \n",
       "51125:               65035            10 6 y_1\n",
       "51126:               65035            36 1 y_2\n",
       "51127:               65039            67 1 y_1\n",
       "51128:               65102            51 2 y_1\n",
       "51129:               65102             7 1 y_2"
      ]
     },
     "execution_count": 19,
     "metadata": {},
     "output_type": "execute_result"
    }
   ],
   "source": [
    "dat[, obs := paste0('y_', 1:.N), by=srch_destination_id]"
   ]
  },
  {
   "cell_type": "code",
   "execution_count": null,
   "metadata": {
    "collapsed": true
   },
   "outputs": [],
   "source": [
    "dcast(dat, srch_destination_id ~ obs, value.var=\"hotel_cluster\") -> top_5"
   ]
  },
  {
   "cell_type": "code",
   "execution_count": null,
   "metadata": {
    "collapsed": true
   },
   "outputs": [],
   "source": [
    "right_join(top_5, val, by = \"srch_destination_id\") -> temp\n",
    "temp <- temp[,2:6]\n",
    "as.list(as.data.frame(t(temp))) -> preds #converts to a list\n",
    "truth = as.list(val$hotel_cluster)\n",
    "mapk(5, truth, preds)"
   ]
  }
 ],
 "metadata": {
  "kernelspec": {
   "display_name": "R",
   "language": "R",
   "name": "ir"
  },
  "language_info": {
   "codemirror_mode": "r",
   "file_extension": ".r",
   "mimetype": "text/x-r-source",
   "name": "R",
   "pygments_lexer": "r",
   "version": "3.2.4"
  }
 },
 "nbformat": 4,
 "nbformat_minor": 0
}
